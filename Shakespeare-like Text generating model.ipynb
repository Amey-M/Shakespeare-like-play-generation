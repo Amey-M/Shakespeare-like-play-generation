{
 "cells": [
  {
   "cell_type": "markdown",
   "id": "e3b0aa18",
   "metadata": {},
   "source": [
    "# Generating shakespeare-like texts using RNN "
   ]
  },
  {
   "cell_type": "markdown",
   "id": "0292aaae",
   "metadata": {},
   "source": [
    "## Importing Libraries"
   ]
  },
  {
   "cell_type": "code",
   "execution_count": 62,
   "id": "75903f45",
   "metadata": {},
   "outputs": [],
   "source": [
    "import random\n",
    "import tensorflow as tf\n",
    "import numpy as np\n",
    "from tensorflow.keras.models import Sequential\n",
    "from tensorflow.keras.layers import LSTM, Dense, Activation\n",
    "from tensorflow.keras.optimizers import RMSprop"
   ]
  },
  {
   "cell_type": "markdown",
   "id": "1facbe0d",
   "metadata": {},
   "source": [
    "## Importing the data"
   ]
  },
  {
   "cell_type": "code",
   "execution_count": 4,
   "id": "210ab34a",
   "metadata": {},
   "outputs": [
    {
     "name": "stdout",
     "output_type": "stream",
     "text": [
      "Downloading data from https://storage.googleapis.com/download.tensorflow.org/data/shakespeare.txt\n",
      "1115394/1115394 [==============================] - 0s 0us/step\n"
     ]
    }
   ],
   "source": [
    "file_path = tf.keras.utils.get_file('shakespeare.txt', 'https://storage.googleapis.com/download.tensorflow.org/data/shakespeare.txt')"
   ]
  },
  {
   "cell_type": "code",
   "execution_count": 5,
   "id": "02e637e2",
   "metadata": {},
   "outputs": [],
   "source": [
    "text = open(file_path, 'rb').read().decode(encoding = 'utf-8').lower()"
   ]
  },
  {
   "cell_type": "code",
   "execution_count": 8,
   "id": "ff3a9418",
   "metadata": {},
   "outputs": [
    {
     "data": {
      "text/plain": [
       "1115394"
      ]
     },
     "execution_count": 8,
     "metadata": {},
     "output_type": "execute_result"
    }
   ],
   "source": [
    "len(text)"
   ]
  },
  {
   "cell_type": "code",
   "execution_count": 9,
   "id": "ea5e9a78",
   "metadata": {},
   "outputs": [],
   "source": [
    "characters = sorted(set(text))"
   ]
  },
  {
   "cell_type": "code",
   "execution_count": 49,
   "id": "4d5e5e41",
   "metadata": {},
   "outputs": [
    {
     "data": {
      "text/plain": [
       "{'\\n': 0,\n",
       " ' ': 1,\n",
       " '!': 2,\n",
       " '$': 3,\n",
       " '&': 4,\n",
       " \"'\": 5,\n",
       " ',': 6,\n",
       " '-': 7,\n",
       " '.': 8,\n",
       " '3': 9,\n",
       " ':': 10,\n",
       " ';': 11,\n",
       " '?': 12,\n",
       " 'a': 13,\n",
       " 'b': 14,\n",
       " 'c': 15,\n",
       " 'd': 16,\n",
       " 'e': 17,\n",
       " 'f': 18,\n",
       " 'g': 19,\n",
       " 'h': 20,\n",
       " 'i': 21,\n",
       " 'j': 22,\n",
       " 'k': 23,\n",
       " 'l': 24,\n",
       " 'm': 25,\n",
       " 'n': 26,\n",
       " 'o': 27,\n",
       " 'p': 28,\n",
       " 'q': 29,\n",
       " 'r': 30,\n",
       " 's': 31,\n",
       " 't': 32,\n",
       " 'u': 33,\n",
       " 'v': 34,\n",
       " 'w': 35,\n",
       " 'x': 36,\n",
       " 'y': 37,\n",
       " 'z': 38}"
      ]
     },
     "execution_count": 49,
     "metadata": {},
     "output_type": "execute_result"
    }
   ],
   "source": [
    "char_to_index = dict((character, index) for (index, character) in enumerate(characters)) \n",
    "char_to_index"
   ]
  },
  {
   "cell_type": "code",
   "execution_count": 50,
   "id": "622aa858",
   "metadata": {},
   "outputs": [
    {
     "data": {
      "text/plain": [
       "{0: '\\n',\n",
       " 1: ' ',\n",
       " 2: '!',\n",
       " 3: '$',\n",
       " 4: '&',\n",
       " 5: \"'\",\n",
       " 6: ',',\n",
       " 7: '-',\n",
       " 8: '.',\n",
       " 9: '3',\n",
       " 10: ':',\n",
       " 11: ';',\n",
       " 12: '?',\n",
       " 13: 'a',\n",
       " 14: 'b',\n",
       " 15: 'c',\n",
       " 16: 'd',\n",
       " 17: 'e',\n",
       " 18: 'f',\n",
       " 19: 'g',\n",
       " 20: 'h',\n",
       " 21: 'i',\n",
       " 22: 'j',\n",
       " 23: 'k',\n",
       " 24: 'l',\n",
       " 25: 'm',\n",
       " 26: 'n',\n",
       " 27: 'o',\n",
       " 28: 'p',\n",
       " 29: 'q',\n",
       " 30: 'r',\n",
       " 31: 's',\n",
       " 32: 't',\n",
       " 33: 'u',\n",
       " 34: 'v',\n",
       " 35: 'w',\n",
       " 36: 'x',\n",
       " 37: 'y',\n",
       " 38: 'z'}"
      ]
     },
     "execution_count": 50,
     "metadata": {},
     "output_type": "execute_result"
    }
   ],
   "source": [
    "index_to_char = dict((index, character) for (index, character) in enumerate(characters))\n",
    "index_to_char"
   ]
  },
  {
   "cell_type": "code",
   "execution_count": 51,
   "id": "dff01a5b",
   "metadata": {},
   "outputs": [],
   "source": [
    "sentences = []\n",
    "next_characters = []\n",
    "\n",
    "sequence_length = 50\n",
    "step_size = 2\n",
    "\n",
    "for i in range(0, len(text) - sequence_length, step_size):\n",
    "    sentences.append(text[i:i+sequence_length])\n",
    "    next_characters.append(text[i+sequence_length])"
   ]
  },
  {
   "cell_type": "code",
   "execution_count": 52,
   "id": "b93d68d1",
   "metadata": {
    "scrolled": true
   },
   "outputs": [
    {
     "data": {
      "text/plain": [
       "'first citizen:\\nbefore we proceed any further, hear'"
      ]
     },
     "execution_count": 52,
     "metadata": {},
     "output_type": "execute_result"
    }
   ],
   "source": [
    "sentences[0]"
   ]
  },
  {
   "cell_type": "code",
   "execution_count": 53,
   "id": "87359456",
   "metadata": {},
   "outputs": [
    {
     "data": {
      "text/plain": [
       "557672"
      ]
     },
     "execution_count": 53,
     "metadata": {},
     "output_type": "execute_result"
    }
   ],
   "source": [
    "len(sentences)"
   ]
  },
  {
   "cell_type": "code",
   "execution_count": 54,
   "id": "5c459d9c",
   "metadata": {},
   "outputs": [],
   "source": [
    "x = np.zeros((len(sentences), sequence_length, len(characters)), dtype = bool)\n",
    "y = np.zeros((len(sentences), len(characters)), dtype = bool)"
   ]
  },
  {
   "cell_type": "code",
   "execution_count": 55,
   "id": "0c6b62ac",
   "metadata": {},
   "outputs": [
    {
     "data": {
      "text/plain": [
       "['first citizen:\\nbefore we proceed any further, hear',\n",
       " 'rst citizen:\\nbefore we proceed any further, hear m',\n",
       " 't citizen:\\nbefore we proceed any further, hear me ',\n",
       " 'citizen:\\nbefore we proceed any further, hear me sp',\n",
       " 'tizen:\\nbefore we proceed any further, hear me spea',\n",
       " 'zen:\\nbefore we proceed any further, hear me speak.',\n",
       " 'n:\\nbefore we proceed any further, hear me speak.\\n\\n',\n",
       " '\\nbefore we proceed any further, hear me speak.\\n\\nal',\n",
       " 'efore we proceed any further, hear me speak.\\n\\nall:',\n",
       " 'ore we proceed any further, hear me speak.\\n\\nall:\\ns']"
      ]
     },
     "execution_count": 55,
     "metadata": {},
     "output_type": "execute_result"
    }
   ],
   "source": [
    "sentences[0:10]"
   ]
  },
  {
   "cell_type": "code",
   "execution_count": 56,
   "id": "715ae60b",
   "metadata": {
    "scrolled": true
   },
   "outputs": [],
   "source": [
    "for i, sentence in enumerate(sentences):\n",
    "    for t, character in enumerate(sentence):\n",
    "        x[i,t,char_to_index[character]] = 1\n",
    "        \n",
    "    y[i,char_to_index[next_characters[i]]] = 1 "
   ]
  },
  {
   "cell_type": "markdown",
   "id": "f09a8691",
   "metadata": {},
   "source": [
    "## Building the Model"
   ]
  },
  {
   "cell_type": "code",
   "execution_count": 60,
   "id": "d608824f",
   "metadata": {},
   "outputs": [],
   "source": [
    "model = Sequential()\n",
    "model.add(LSTM(128, input_shape = (sequence_length, len(characters))))\n",
    "model.add(Dense(len(characters), activation = 'softmax'))"
   ]
  },
  {
   "cell_type": "code",
   "execution_count": 61,
   "id": "89b822e3",
   "metadata": {},
   "outputs": [
    {
     "name": "stdout",
     "output_type": "stream",
     "text": [
      "Model: \"sequential_1\"\n",
      "_________________________________________________________________\n",
      " Layer (type)                Output Shape              Param #   \n",
      "=================================================================\n",
      " lstm (LSTM)                 (None, 128)               86016     \n",
      "                                                                 \n",
      " dense (Dense)               (None, 39)                5031      \n",
      "                                                                 \n",
      "=================================================================\n",
      "Total params: 91,047\n",
      "Trainable params: 91,047\n",
      "Non-trainable params: 0\n",
      "_________________________________________________________________\n"
     ]
    }
   ],
   "source": [
    "model.summary()"
   ]
  },
  {
   "cell_type": "code",
   "execution_count": 67,
   "id": "abe3dc72",
   "metadata": {},
   "outputs": [],
   "source": [
    "model.compile(optimizer = RMSprop(learning_rate = 0.01),\n",
    "              loss = 'categorical_crossentropy')"
   ]
  },
  {
   "cell_type": "code",
   "execution_count": 68,
   "id": "5d379ba5",
   "metadata": {},
   "outputs": [
    {
     "name": "stdout",
     "output_type": "stream",
     "text": [
      "Epoch 1/4\n",
      "2179/2179 [==============================] - 170s 77ms/step - loss: 1.8378\n",
      "Epoch 2/4\n",
      "2179/2179 [==============================] - 166s 76ms/step - loss: 1.5321\n",
      "Epoch 3/4\n",
      "2179/2179 [==============================] - 149s 68ms/step - loss: 1.4653\n",
      "Epoch 4/4\n",
      "2179/2179 [==============================] - 149s 68ms/step - loss: 1.4307\n"
     ]
    },
    {
     "data": {
      "text/plain": [
       "<keras.callbacks.History at 0x15db5370580>"
      ]
     },
     "execution_count": 68,
     "metadata": {},
     "output_type": "execute_result"
    }
   ],
   "source": [
    "model.fit(x, y, batch_size = 256, epochs = 4)"
   ]
  },
  {
   "cell_type": "code",
   "execution_count": 69,
   "id": "f52aacea",
   "metadata": {},
   "outputs": [
    {
     "name": "stderr",
     "output_type": "stream",
     "text": [
      "WARNING:absl:Found untraced functions such as _update_step_xla, lstm_cell_layer_call_fn, lstm_cell_layer_call_and_return_conditional_losses while saving (showing 3 of 3). These functions will not be directly callable after loading.\n"
     ]
    },
    {
     "name": "stdout",
     "output_type": "stream",
     "text": [
      "INFO:tensorflow:Assets written to: shakespeare_text_generator.model\\assets\n"
     ]
    },
    {
     "name": "stderr",
     "output_type": "stream",
     "text": [
      "INFO:tensorflow:Assets written to: shakespeare_text_generator.model\\assets\n"
     ]
    }
   ],
   "source": [
    "model.save('shakespeare_text_generator.model')"
   ]
  },
  {
   "cell_type": "code",
   "execution_count": 70,
   "id": "5e6196aa",
   "metadata": {},
   "outputs": [],
   "source": [
    "def sample(preds, temperature=1.0):\n",
    "    preds = np.asarray(preds).astype('float64')\n",
    "    preds = np.log(preds) / temperature\n",
    "    exp_preds = np.exp(preds)\n",
    "    preds = exp_preds / np.sum(exp_preds)\n",
    "    probas = np.random.multinomial(1, preds, 1)\n",
    "    return np.argmax(probas)"
   ]
  },
  {
   "cell_type": "markdown",
   "id": "1d594c91",
   "metadata": {},
   "source": [
    "## Making the text generation function"
   ]
  },
  {
   "cell_type": "code",
   "execution_count": 71,
   "id": "11a746bc",
   "metadata": {},
   "outputs": [],
   "source": [
    "def generate_text(length, temperature):\n",
    "    start_index = random.randint(0, len(text) - sequence_length - 1)\n",
    "    generated_text = ''\n",
    "    sentence = text[start_index: start_index + sequence_length]\n",
    "    generated_text = generated_text + sentence \n",
    "    for i in range(length):\n",
    "        x = np.zeros((1, sequence_length, len(characters)))\n",
    "        for t, character in enumerate(sentence):\n",
    "            x[0, t, char_to_index[character]] = 1\n",
    "        \n",
    "        predictions = model.predict(x, verbose = 0)[0]\n",
    "        next_index = sample(predictions, temperature)\n",
    "        next_character = index_to_char[next_index]\n",
    "        \n",
    "        generated_text = generated_text + next_character\n",
    "        sentence = sentence[1:] + next_character\n",
    "    \n",
    "    return generated_text"
   ]
  },
  {
   "cell_type": "markdown",
   "id": "41007451",
   "metadata": {},
   "source": [
    "## Printing some examples"
   ]
  },
  {
   "cell_type": "code",
   "execution_count": 74,
   "id": "f8afc199",
   "metadata": {
    "scrolled": true
   },
   "outputs": [
    {
     "name": "stdout",
     "output_type": "stream",
     "text": [
      "and aloof, and so i did:\n",
      "anon comes one with light to the persuition\n",
      "with the sons in the course of the sund to the terms\n",
      "and the course and the lancess the senserse,\n",
      "and the propheses and the love the tent to me,\n",
      "and the course of the soul the senteness of my son,\n",
      "the prove of the sabse to the heart the servers\n",
      "the lord is the soul that she have the dead.\n",
      "\n",
      "lucio:\n",
      "our good mance of my honour to the father to the\n",
      "with the souls the traitor be so the coursely dead,\n",
      "and the thing of the course with the words,\n",
      "and the subjects to the propheses to h\n"
     ]
    }
   ],
   "source": [
    "print(generate_text(500, 0.25))"
   ]
  },
  {
   "cell_type": "code",
   "execution_count": 75,
   "id": "fc44352e",
   "metadata": {},
   "outputs": [
    {
     "name": "stdout",
     "output_type": "stream",
     "text": [
      "et of angelo's request,\n",
      "and fit his mind to death, and all his house,\n",
      "where i have there is the his carry with him,\n",
      "or warwick and the worth the sen'er while there is\n",
      "the richmond the vault of souls in the counter of\n",
      "the soul so more with the selfsity: which i may dead.\n",
      "\n",
      "virgilia:\n",
      "i shall dead and denielians here and the\n",
      "then the soul the soul of the subjects send my face\n",
      "to the could indeed by the father to the lord,\n",
      "the prince of such in so is done to off.\n",
      "\n",
      "somerset:\n",
      "i will such a south of the good head?\n",
      "\n",
      "baptista:\n",
      "i say, sir, i was to be dou\n"
     ]
    }
   ],
   "source": [
    "print(generate_text(500, 0.5))"
   ]
  },
  {
   "cell_type": "code",
   "execution_count": 76,
   "id": "28a3e296",
   "metadata": {},
   "outputs": [
    {
     "name": "stdout",
     "output_type": "stream",
     "text": [
      "ishonoured by this new marriage.\n",
      "\n",
      "king edward iv:\n",
      "can and thee were me the theep of souls,\n",
      "i shall shall not hear me is courice, i see them.\n",
      "the liver come to me the unto thee, do your life.\n",
      "but make to had not be sweet hourainers\n",
      "at the name comes with them, and so provosed.\n",
      "first the pride rebeleans to-neak with her.\n",
      "\n",
      "lady anne:\n",
      "no.\n",
      "\n",
      "capulet:\n",
      "stand past of his courrce.\n",
      "\n",
      "friar pley:\n",
      "whit help, here here the now, who be the most more for\n",
      "right dead dishill of a good daulth was the day\n",
      "of the fool, our lucesser were to be strokes,\n",
      "with where i c\n"
     ]
    }
   ],
   "source": [
    "print(generate_text(500, 0.75))"
   ]
  }
 ],
 "metadata": {
  "kernelspec": {
   "display_name": "Python 3 (ipykernel)",
   "language": "python",
   "name": "python3"
  },
  "language_info": {
   "codemirror_mode": {
    "name": "ipython",
    "version": 3
   },
   "file_extension": ".py",
   "mimetype": "text/x-python",
   "name": "python",
   "nbconvert_exporter": "python",
   "pygments_lexer": "ipython3",
   "version": "3.9.13"
  }
 },
 "nbformat": 4,
 "nbformat_minor": 5
}
